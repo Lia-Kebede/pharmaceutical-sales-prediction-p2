{
 "cells": [
  {
   "cell_type": "code",
   "execution_count": null,
   "metadata": {},
   "outputs": [
    {
     "ename": "",
     "evalue": "",
     "output_type": "error",
     "traceback": [
      "\u001b[1;31mFailed to start the Kernel. \n",
      "\u001b[1;31mUnable to start Kernel 'Python 3.9.6 64-bit' due to connection timeout. \n",
      "\u001b[1;31mView Jupyter <a href='command:jupyter.viewOutput'>log</a> for further details."
     ]
    }
   ],
   "source": [
    "#importing Libraries\n",
    "import pandas as pd\n",
    "import os\n",
    "import sys\n",
    "\n",
    "#import local libraries\n",
    "#Adding scripts path\n",
    "sys.path.append(os.path.abspath(os.path.join('..')))\n",
    "#importing dvc_data_loader script\n",
    "# from scripts.dvc_data_loader import *\n",
    "from scripts.data_information import DataInfo\n",
    "from scripts.data_loader import load_df_from_csv\n",
    "from scripts.data_manipulation import DataManipulator\n",
    "from scripts.data_cleaner import DataCleaner\n",
    "from scripts.utlity_functions import convert_to_month_name\n",
    "from scripts.grapher import *\n",
    "from sklearn import preprocessing"
   ]
  },
  {
   "cell_type": "code",
   "execution_count": null,
   "metadata": {},
   "outputs": [],
   "source": []
  },
  {
   "cell_type": "code",
   "execution_count": null,
   "metadata": {},
   "outputs": [],
   "source": []
  },
  {
   "cell_type": "code",
   "execution_count": null,
   "metadata": {},
   "outputs": [],
   "source": []
  }
 ],
 "metadata": {
  "kernelspec": {
   "display_name": "Python 3.9.6 64-bit",
   "language": "python",
   "name": "python3"
  },
  "language_info": {
   "name": "python",
   "version": "3.9.6"
  },
  "orig_nbformat": 4,
  "vscode": {
   "interpreter": {
    "hash": "8e4e66ef3476c8711adedaa0450dbe17fb1e2f6c04fbbb7e5a31701cc9973434"
   }
  }
 },
 "nbformat": 4,
 "nbformat_minor": 2
}
